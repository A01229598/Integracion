{
 "cells": [
  {
   "cell_type": "code",
   "execution_count": 0,
   "metadata": {
    "collapsed": false
   },
   "outputs": [
   ],
   "source": [
    "# Integral 1/x**2 en el intervalo de 1 a 2\n",
    "import numpy as np\n",
    "import math\n",
    "def trapecio(y,h):\n",
    "    I = y[0]\n",
    "    I += y[-1]\n",
    "    I += sum( 2*yi for yi in y[1:-1] )\n",
    "    I *= h/2\n",
    "    return I\n",
    "\n",
    "def simpson13(y,h):\n",
    "    I = y[0]\n",
    "    I += y[-1]\n",
    "    for i in range(1,len(y)-1):\n",
    "        if i % 2 == 0:\n",
    "            I += 2*y[i]\n",
    "        else:\n",
    "            I += 4*y[i]\n",
    "    I *= h/3\n",
    "    return I\n",
    "\n",
    "def simpson38(y,h):\n",
    "    I = y[0]\n",
    "    I += y[-1]\n",
    "    for i in range(1,len(y)-1):\n",
    "        if i % 3 == 0:\n",
    "            I += 2*y[i]\n",
    "        else:\n",
    "            I += 3*y[i]\n",
    "    I *= 3*h/8\n",
    "    return I\n",
    "\n",
    "n = 9\n",
    "a = 1\n",
    "b = 2\n",
    "h = abs(a-b)/(n -1)\n",
    "x = np.linspace(a,b,n)\n",
    "\n",
    "def fun(x):\n",
    "    return math.sin(x**2)\n",
    "y = [fun(xi) for xi in x]\n",
    "print('x',x)\n",
    "print('y',y)\n",
    "\n",
    "print('trapecio',trapecio(y,h),h)\n",
    "print('simpson13',simpson13(y,h))\n",
    "print('simpson38',simpson38(y,h))"
   ]
  }
 ],
 "metadata": {
  "kernelspec": {
   "display_name": "Python 3 (Anaconda 5)",
   "language": "python",
   "name": "anaconda5"
  }
 },
 "nbformat": 4,
 "nbformat_minor": 0
}